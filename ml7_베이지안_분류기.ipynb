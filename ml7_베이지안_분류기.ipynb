{
  "nbformat": 4,
  "nbformat_minor": 0,
  "metadata": {
    "colab": {
      "name": "ml7.베이지안 분류기.ipynb",
      "provenance": [],
      "authorship_tag": "ABX9TyMBE5hzXOaABo1gz2kyoEzB",
      "include_colab_link": true
    },
    "kernelspec": {
      "name": "python3",
      "display_name": "Python 3"
    },
    "language_info": {
      "name": "python"
    }
  },
  "cells": [
    {
      "cell_type": "markdown",
      "metadata": {
        "id": "view-in-github",
        "colab_type": "text"
      },
      "source": [
        "<a href=\"https://colab.research.google.com/github/kani215/ML_study/blob/main/ml7_%EB%B2%A0%EC%9D%B4%EC%A7%80%EC%95%88_%EB%B6%84%EB%A5%98%EA%B8%B0.ipynb\" target=\"_parent\"><img src=\"https://colab.research.google.com/assets/colab-badge.svg\" alt=\"Open In Colab\"/></a>"
      ]
    },
    {
      "cell_type": "markdown",
      "source": [
        "1. 선언 부분"
      ],
      "metadata": {
        "id": "YuR1c8Wy1xdC"
      }
    },
    {
      "cell_type": "code",
      "source": [
        "from sklearn.datasets import load_iris\n",
        "from sklearn.model_selection import train_test_split\n",
        "from sklearn.naive_bayes import GaussianNB\n",
        "\n",
        "\n",
        "\"\"\"\n",
        "나이브 베이즈 테스트 아이리스 데이터 셋 150개 data 3개의 품종 att 존재\n",
        "데이터 사전 분리\n",
        "가우시안 나이브베이즈로 활용  - 숫자 형태에 유용\n",
        "\"\"\""
      ],
      "metadata": {
        "colab": {
          "base_uri": "https://localhost:8080/",
          "height": 54
        },
        "id": "_xaJy8AC1x9-",
        "outputId": "d9df666c-5574-447b-cb66-19ad675324c1"
      },
      "execution_count": null,
      "outputs": [
        {
          "output_type": "execute_result",
          "data": {
            "application/vnd.google.colaboratory.intrinsic+json": {
              "type": "string"
            },
            "text/plain": [
              "'\\n나이브 베이즈 테스트 아이리스 데이터 셋 150개 data 3개의 품종 att 존재\\n데이터 사전 분리\\n가우시안 나이브베이즈로 활용  - 숫자 형태에 유용\\n'"
            ]
          },
          "metadata": {},
          "execution_count": 2
        }
      ]
    },
    {
      "cell_type": "markdown",
      "source": [
        "2. 데이터 셋 가져온다."
      ],
      "metadata": {
        "id": "pMSgwKkl1yFS"
      }
    },
    {
      "cell_type": "code",
      "source": [
        "X,y = load_iris(return_X_y = True)"
      ],
      "metadata": {
        "id": "ZkcndBD21yLR"
      },
      "execution_count": null,
      "outputs": []
    },
    {
      "cell_type": "markdown",
      "source": [
        "3. 데이터 분리"
      ],
      "metadata": {
        "id": "N6FJAIB41yRw"
      }
    },
    {
      "cell_type": "code",
      "source": [
        "X_train, X_test, y_train, y_test = train_test_split(X,y, test_size = 0.5, random_state=0)"
      ],
      "metadata": {
        "id": "n4b2rOHH1yXB"
      },
      "execution_count": null,
      "outputs": []
    },
    {
      "cell_type": "markdown",
      "source": [
        "4. 가우시안 나이브베이즈 객체 생성"
      ],
      "metadata": {
        "id": "XkppdsNX1ycy"
      }
    },
    {
      "cell_type": "code",
      "source": [
        "nb = GaussianNB()"
      ],
      "metadata": {
        "id": "534UX5Mi1yh9"
      },
      "execution_count": null,
      "outputs": []
    },
    {
      "cell_type": "markdown",
      "source": [
        "5. predict"
      ],
      "metadata": {
        "id": "ys6MVymr4KBQ"
      }
    },
    {
      "cell_type": "code",
      "source": [
        "y_pred = nb.fit(X_train,y_train).predict(X_test)"
      ],
      "metadata": {
        "id": "UVJtVcFP4KHg"
      },
      "execution_count": null,
      "outputs": []
    },
    {
      "cell_type": "markdown",
      "source": [
        "6. output"
      ],
      "metadata": {
        "id": "52EdruNU4N6Y"
      }
    },
    {
      "cell_type": "code",
      "source": [
        "print(\"Num of mislabeled points from a total %d points : %d\"%(X_test.shape[0],(y_test != y_pred).sum() ))"
      ],
      "metadata": {
        "colab": {
          "base_uri": "https://localhost:8080/"
        },
        "id": "TxG931tr4ODW",
        "outputId": "75909db5-f13a-495a-9821-d1569bafbdac"
      },
      "execution_count": null,
      "outputs": [
        {
          "output_type": "stream",
          "name": "stdout",
          "text": [
            "Num of mislabeled points from a total 75 points : 4\n"
          ]
        }
      ]
    },
    {
      "cell_type": "markdown",
      "source": [
        "실습 - 뉴스 그룹 데이터 분류하기\n",
        "\n",
        "- 1) 데이터 이해\n",
        "\n",
        "6개의 att\n",
        "본문이 있는 data 속성과\n",
        "데이터의 카테고리 0~19 분류된 target 속성만 사용"
      ],
      "metadata": {
        "id": "gx4ccmWV4OJY"
      }
    },
    {
      "cell_type": "code",
      "source": [
        "from sklearn.datasets import fetch_20newsgroups\n",
        "newsdata=fetch_20newsgroups(subset='train')\n",
        "print(newsdata.keys())"
      ],
      "metadata": {
        "colab": {
          "base_uri": "https://localhost:8080/"
        },
        "id": "mxLKLSHh4OOZ",
        "outputId": "aac8a2fc-3834-4008-976e-8ac492e4ac59"
      },
      "execution_count": null,
      "outputs": [
        {
          "output_type": "stream",
          "name": "stdout",
          "text": [
            "dict_keys(['data', 'filenames', 'target_names', 'target', 'DESCR'])\n"
          ]
        }
      ]
    },
    {
      "cell_type": "markdown",
      "source": [
        "- 2) key 확인 후 데이터 개수 카테고리 이름 확인"
      ],
      "metadata": {
        "id": "_Hni3TEu61DJ"
      }
    },
    {
      "cell_type": "code",
      "source": [
        "print (len(newsdata.data), len(newsdata.filenames), len(newsdata.target_names), len(newsdata.target))\n",
        "print(newsdata.target_names)\n"
      ],
      "metadata": {
        "colab": {
          "base_uri": "https://localhost:8080/"
        },
        "id": "Z6vgl7Bk61No",
        "outputId": "86d3ed70-61db-4211-c420-5d904e531b3a"
      },
      "execution_count": null,
      "outputs": [
        {
          "output_type": "stream",
          "name": "stdout",
          "text": [
            "11314 11314 20 11314\n",
            "['alt.atheism', 'comp.graphics', 'comp.os.ms-windows.misc', 'comp.sys.ibm.pc.hardware', 'comp.sys.mac.hardware', 'comp.windows.x', 'misc.forsale', 'rec.autos', 'rec.motorcycles', 'rec.sport.baseball', 'rec.sport.hockey', 'sci.crypt', 'sci.electronics', 'sci.med', 'sci.space', 'soc.religion.christian', 'talk.politics.guns', 'talk.politics.mideast', 'talk.politics.misc', 'talk.religion.misc']\n"
          ]
        }
      ]
    },
    {
      "cell_type": "markdown",
      "source": [
        "- 3) 데이터 1개 내용 확인\n",
        ": 스포츠 카에 대한 글 \n",
        ": 이 글은 7번 target 속성으로 분류 rec.autos 뉴스임"
      ],
      "metadata": {
        "id": "1cU3jMRT61X5"
      }
    },
    {
      "cell_type": "code",
      "source": [
        "print(newsdata.data[0])\n"
      ],
      "metadata": {
        "colab": {
          "base_uri": "https://localhost:8080/"
        },
        "id": "M6G9yC-C61in",
        "outputId": "d1d3f441-79a6-471d-e5ef-99620b134bef"
      },
      "execution_count": null,
      "outputs": [
        {
          "output_type": "stream",
          "name": "stdout",
          "text": [
            "From: lerxst@wam.umd.edu (where's my thing)\n",
            "Subject: WHAT car is this!?\n",
            "Nntp-Posting-Host: rac3.wam.umd.edu\n",
            "Organization: University of Maryland, College Park\n",
            "Lines: 15\n",
            "\n",
            " I was wondering if anyone out there could enlighten me on this car I saw\n",
            "the other day. It was a 2-door sports car, looked to be from the late 60s/\n",
            "early 70s. It was called a Bricklin. The doors were really small. In addition,\n",
            "the front bumper was separate from the rest of the body. This is \n",
            "all I know. If anyone can tellme a model name, engine specs, years\n",
            "of production, where this car is made, history, or whatever info you\n",
            "have on this funky looking car, please e-mail.\n",
            "\n",
            "Thanks,\n",
            "- IL\n",
            "   ---- brought to you by your neighborhood Lerxst ----\n",
            "\n",
            "\n",
            "\n",
            "\n",
            "\n"
          ]
        }
      ]
    },
    {
      "cell_type": "markdown",
      "source": [
        "2. 나이브 베이즈 분류 시작\n",
        "- 여기서 전처리를 해야하는 데이터는 newsdata.data입니다. 위에서 봤듯이 해당 데이터는 토큰화가 전혀 되어있지 않습니다. 나이브 베이즈 분류를 위해서는 데이터를 BoW로 만들어줄 필요가 있습니다.\n",
        "\n",
        "- 여기서는 입력한 텍스트를 자동으로 BoW로 만드는 CountVectorizer 사용"
      ],
      "metadata": {
        "id": "0psoXtQ67N_0"
      }
    },
    {
      "cell_type": "code",
      "source": [
        "from sklearn.feature_extraction.text import CountVectorizer\n",
        "from sklearn.feature_extraction.text import TfidfTransformer\n",
        "from sklearn.naive_bayes import MultinomialNB # 다항분포 나이브 베이즈 모델\n",
        "from sklearn.metrics import accuracy_score #정확도 계산\n",
        "\n",
        "dtmvector = CountVectorizer()\n",
        "X_train_dtm = dtmvector.fit_transform(newsdata.data)\n",
        "print(X_train_dtm.shape)"
      ],
      "metadata": {
        "colab": {
          "base_uri": "https://localhost:8080/"
        },
        "id": "4tOf0B0Q7OGp",
        "outputId": "33439cf6-69ec-4a49-b9ea-9adee31d6a01"
      },
      "execution_count": null,
      "outputs": [
        {
          "output_type": "stream",
          "name": "stdout",
          "text": [
            "(11314, 130107)\n"
          ]
        }
      ]
    },
    {
      "cell_type": "markdown",
      "source": [
        "- 11,314는 훈련용 샘플의 개수이고 DTM 관점에서는 문서의 수가 되겠습니다. 130,107은 전체 훈련 데이터에 등장한 단어의 수\n"
      ],
      "metadata": {
        "id": "pyU2sOPC7ON6"
      }
    },
    {
      "cell_type": "code",
      "source": [
        "tfidf_transformer = TfidfTransformer()\n",
        "tfidfv = tfidf_transformer.fit_transform(X_train_dtm)\n",
        "print(tfidfv.shape)"
      ],
      "metadata": {
        "colab": {
          "base_uri": "https://localhost:8080/"
        },
        "id": "u8F3BB8v7OSb",
        "outputId": "f9d919b9-f258-4840-f8b6-413b377bc235"
      },
      "execution_count": null,
      "outputs": [
        {
          "output_type": "stream",
          "name": "stdout",
          "text": [
            "(11314, 130107)\n"
          ]
        }
      ]
    },
    {
      "cell_type": "markdown",
      "source": [
        "- TF-IDF 행렬이 만들어졌습니다. 이제 본격적으로 나이브 베이즈 분류를 수행해보겠습니다. 사이킷런은 나이브 베이즈 모델을 지원하므로, 이를 그대로 갖고와서 사용하겠습니다\n",
        "- X_train과 y_train에 해당되는 데이터"
      ],
      "metadata": {
        "id": "IDHLscEJ7rbv"
      }
    },
    {
      "cell_type": "code",
      "source": [
        "mod = MultinomialNB()\n",
        "mod.fit(tfidfv, newsdata.target)\n",
        "MultinomialNB(alpha=1.0, class_prior=None, fit_prior=True)\n"
      ],
      "metadata": {
        "colab": {
          "base_uri": "https://localhost:8080/"
        },
        "id": "m_H4ERLX7rnV",
        "outputId": "1437f1bf-0f34-44e6-ecf8-42d5bb720c1b"
      },
      "execution_count": null,
      "outputs": [
        {
          "output_type": "execute_result",
          "data": {
            "text/plain": [
              "MultinomialNB()"
            ]
          },
          "metadata": {},
          "execution_count": 19
        }
      ]
    },
    {
      "cell_type": "markdown",
      "source": [
        "- 여기서 alpha=1.0은 라플라스 스무딩이 적용되었음을 의미합니다.\n",
        "\n"
      ],
      "metadata": {
        "id": "yBCtq5zD7ryq"
      }
    },
    {
      "cell_type": "code",
      "source": [
        "newsdata_test = fetch_20newsgroups(subset='test', shuffle=True) #테스트 데이터 갖고오기\n",
        "X_test_dtm = dtmvector.transform(newsdata_test.data) #테스트 데이터를 DTM으로 변환\n",
        "tfidfv_test = tfidf_transformer.transform(X_test_dtm) #DTM을 TF-IDF 행렬로 변환\n",
        "\n",
        "predicted = mod.predict(tfidfv_test) #테스트 데이터에 대한 예측\n",
        "print(\"정확도:\", accuracy_score(newsdata_test.target, predicted)) #예측값과 실제값 비교"
      ],
      "metadata": {
        "colab": {
          "base_uri": "https://localhost:8080/"
        },
        "id": "Y6RYIcPt7r6c",
        "outputId": "1d26e180-3ec1-4a7f-ba33-2d18c3106095"
      },
      "execution_count": null,
      "outputs": [
        {
          "output_type": "stream",
          "name": "stdout",
          "text": [
            "정확도: 0.7738980350504514\n"
          ]
        }
      ]
    }
  ]
}